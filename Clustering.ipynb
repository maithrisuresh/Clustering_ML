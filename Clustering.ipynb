{
  "nbformat": 4,
  "nbformat_minor": 0,
  "metadata": {
    "colab": {
      "name": "Clustering",
      "provenance": []
    },
    "kernelspec": {
      "name": "python3",
      "display_name": "Python 3"
    }
  },
  "cells": [
    {
      "cell_type": "code",
      "metadata": {
        "id": "uCW3KMvKlArO",
        "colab_type": "code",
        "colab": {}
      },
      "source": [
        "import pandas as pd\n",
        "import numpy as np\n",
        "import random as rd\n",
        "import matplotlib.pyplot as plt"
      ],
      "execution_count": 4,
      "outputs": []
    },
    {
      "cell_type": "code",
      "metadata": {
        "id": "gh-UzGPclLbl",
        "colab_type": "code",
        "colab": {
          "base_uri": "https://localhost:8080/",
          "height": 195
        },
        "outputId": "06c1df23-2095-4caf-a558-3f02ab4cd3f8"
      },
      "source": [
        "data = pd.read_csv('country.csv')\n",
        "data.head()"
      ],
      "execution_count": 5,
      "outputs": [
        {
          "output_type": "execute_result",
          "data": {
            "text/html": [
              "<div>\n",
              "<style scoped>\n",
              "    .dataframe tbody tr th:only-of-type {\n",
              "        vertical-align: middle;\n",
              "    }\n",
              "\n",
              "    .dataframe tbody tr th {\n",
              "        vertical-align: top;\n",
              "    }\n",
              "\n",
              "    .dataframe thead th {\n",
              "        text-align: right;\n",
              "    }\n",
              "</style>\n",
              "<table border=\"1\" class=\"dataframe\">\n",
              "  <thead>\n",
              "    <tr style=\"text-align: right;\">\n",
              "      <th></th>\n",
              "      <th>country</th>\n",
              "      <th>child_mort</th>\n",
              "      <th>exports</th>\n",
              "      <th>health</th>\n",
              "      <th>imports</th>\n",
              "      <th>income</th>\n",
              "      <th>inflation</th>\n",
              "      <th>life_expec</th>\n",
              "      <th>total_fer</th>\n",
              "      <th>gdpp</th>\n",
              "    </tr>\n",
              "  </thead>\n",
              "  <tbody>\n",
              "    <tr>\n",
              "      <th>0</th>\n",
              "      <td>Afghanistan</td>\n",
              "      <td>90.2</td>\n",
              "      <td>10.0</td>\n",
              "      <td>7.58</td>\n",
              "      <td>44.9</td>\n",
              "      <td>1610</td>\n",
              "      <td>9.44</td>\n",
              "      <td>56.2</td>\n",
              "      <td>5.82</td>\n",
              "      <td>553</td>\n",
              "    </tr>\n",
              "    <tr>\n",
              "      <th>1</th>\n",
              "      <td>Albania</td>\n",
              "      <td>16.6</td>\n",
              "      <td>28.0</td>\n",
              "      <td>6.55</td>\n",
              "      <td>48.6</td>\n",
              "      <td>9930</td>\n",
              "      <td>4.49</td>\n",
              "      <td>76.3</td>\n",
              "      <td>1.65</td>\n",
              "      <td>4090</td>\n",
              "    </tr>\n",
              "    <tr>\n",
              "      <th>2</th>\n",
              "      <td>Algeria</td>\n",
              "      <td>27.3</td>\n",
              "      <td>38.4</td>\n",
              "      <td>4.17</td>\n",
              "      <td>31.4</td>\n",
              "      <td>12900</td>\n",
              "      <td>16.10</td>\n",
              "      <td>76.5</td>\n",
              "      <td>2.89</td>\n",
              "      <td>4460</td>\n",
              "    </tr>\n",
              "    <tr>\n",
              "      <th>3</th>\n",
              "      <td>Angola</td>\n",
              "      <td>119.0</td>\n",
              "      <td>62.3</td>\n",
              "      <td>2.85</td>\n",
              "      <td>42.9</td>\n",
              "      <td>5900</td>\n",
              "      <td>22.40</td>\n",
              "      <td>60.1</td>\n",
              "      <td>6.16</td>\n",
              "      <td>3530</td>\n",
              "    </tr>\n",
              "    <tr>\n",
              "      <th>4</th>\n",
              "      <td>Antigua and Barbuda</td>\n",
              "      <td>10.3</td>\n",
              "      <td>45.5</td>\n",
              "      <td>6.03</td>\n",
              "      <td>58.9</td>\n",
              "      <td>19100</td>\n",
              "      <td>1.44</td>\n",
              "      <td>76.8</td>\n",
              "      <td>2.13</td>\n",
              "      <td>12200</td>\n",
              "    </tr>\n",
              "  </tbody>\n",
              "</table>\n",
              "</div>"
            ],
            "text/plain": [
              "               country  child_mort  exports  ...  life_expec  total_fer   gdpp\n",
              "0          Afghanistan        90.2     10.0  ...        56.2       5.82    553\n",
              "1              Albania        16.6     28.0  ...        76.3       1.65   4090\n",
              "2              Algeria        27.3     38.4  ...        76.5       2.89   4460\n",
              "3               Angola       119.0     62.3  ...        60.1       6.16   3530\n",
              "4  Antigua and Barbuda        10.3     45.5  ...        76.8       2.13  12200\n",
              "\n",
              "[5 rows x 10 columns]"
            ]
          },
          "metadata": {
            "tags": []
          },
          "execution_count": 5
        }
      ]
    },
    {
      "cell_type": "code",
      "metadata": {
        "id": "TPGDl4ZdlYPr",
        "colab_type": "code",
        "colab": {
          "base_uri": "https://localhost:8080/",
          "height": 279
        },
        "outputId": "4cca9626-8159-4148-db39-8212986f7b51"
      },
      "source": [
        "\n",
        "X = data[[\"income\",\"gdpp\"]]\n",
        "#Visualise data points\n",
        "plt.scatter(X[\"income\"],X[\"gdpp\"],c='black')\n",
        "plt.xlabel('Income')\n",
        "plt.ylabel('GDPP')\n",
        "plt.show()"
      ],
      "execution_count": 6,
      "outputs": [
        {
          "output_type": "display_data",
          "data": {
            "image/png": "[encoded data removed]",
            "text/plain": [
              "<Figure size 432x288 with 1 Axes>"
            ]
          },
          "metadata": {
            "tags": [],
            "needs_background": "light"
          }
        }
      ]
    },
    {
      "cell_type": "code",
      "metadata": {
        "id": "lHD3FRWYl4WJ",
        "colab_type": "code",
        "colab": {
          "base_uri": "https://localhost:8080/",
          "height": 279
        },
        "outputId": "5f9d9fc9-5cbb-49f3-95a5-487cb53344bb"
      },
      "source": [
        "# Step 1 and 2 - Choose the number of clusters (k) and select random centroid for each cluster\n",
        "\n",
        "#number of clusters\n",
        "K=3\n",
        "\n",
        "# Select random observation as centroids\n",
        "Centroids = (X.sample(n=K))\n",
        "plt.scatter(X[\"income\"],X[\"gdpp\"],c='black')\n",
        "plt.scatter(Centroids[\"income\"],Centroids[\"gdpp\"],c='red')\n",
        "plt.xlabel('income')\n",
        "plt.ylabel('gdpp')\n",
        "plt.show()"
      ],
      "execution_count": 7,
      "outputs": [
        {
          "output_type": "display_data",
          "data": {
            "image/png": "[encoded data removed]",
            "text/plain": [
              "<Figure size 432x288 with 1 Axes>"
            ]
          },
          "metadata": {
            "tags": [],
            "needs_background": "light"
          }
        }
      ]
    },
    {
      "cell_type": "code",
      "metadata": {
        "id": "avIt-J-7mWbT",
        "colab_type": "code",
        "colab": {
          "base_uri": "https://localhost:8080/",
          "height": 386
        },
        "outputId": "ef30dfa4-fa40-49a6-a057-29e2f0ce909d"
      },
      "source": [
        "# Step 3 - Assign all the points to the closest cluster centroid\n",
        "# Step 4 - Recompute centroids of newly formed clusters\n",
        "# Step 5 - Repeat step 3 and 4\n",
        "\n",
        "diff = 1\n",
        "j=0\n",
        "\n",
        "while(diff!=0):\n",
        "    XD=X\n",
        "    i=1\n",
        "    for index1,row_c in Centroids.iterrows():\n",
        "        ED=[]\n",
        "        for index2,row_d in XD.iterrows():\n",
        "            d1=(row_c[\"income\"]-row_d[\"income\"])**2\n",
        "            d2=(row_c[\"gdpp\"]-row_d[\"gdpp\"])**2\n",
        "            d=np.sqrt(d1+d2)\n",
        "            ED.append(d)\n",
        "        X[i]=ED\n",
        "        i=i+1\n",
        "\n",
        "    C=[]\n",
        "    for index,row in X.iterrows():\n",
        "        min_dist=row[1]\n",
        "        pos=1\n",
        "        for i in range(K):\n",
        "            if row[i+1] < min_dist:\n",
        "                min_dist = row[i+1]\n",
        "                pos=i+1\n",
        "        C.append(pos)\n",
        "    X[\"Cluster\"]=C\n",
        "    Centroids_new = X.groupby([\"Cluster\"]).mean()[[\"gdpp\",\"income\"]]\n",
        "    if j == 0:\n",
        "        diff=1\n",
        "        j=j+1\n",
        "    else:\n",
        "        diff = (Centroids_new['gdpp'] - Centroids['gdpp']).sum() + (Centroids_new['income'] - Centroids['income']).sum()\n",
        "        print(diff.sum())\n",
        "    Centroids = X.groupby([\"Cluster\"]).mean()[[\"gdpp\",\"income\"]]"
      ],
      "execution_count": 8,
      "outputs": [
        {
          "output_type": "stream",
          "text": [
            "/usr/local/lib/python3.6/dist-packages/ipykernel_launcher.py:18: SettingWithCopyWarning: \n",
            "A value is trying to be set on a copy of a slice from a DataFrame.\n",
            "Try using .loc[row_indexer,col_indexer] = value instead\n",
            "\n",
            "See the caveats in the documentation: https://pandas.pydata.org/pandas-docs/stable/user_guide/indexing.html#returning-a-view-versus-a-copy\n",
            "/usr/local/lib/python3.6/dist-packages/ipykernel_launcher.py:30: SettingWithCopyWarning: \n",
            "A value is trying to be set on a copy of a slice from a DataFrame.\n",
            "Try using .loc[row_indexer,col_indexer] = value instead\n",
            "\n",
            "See the caveats in the documentation: https://pandas.pydata.org/pandas-docs/stable/user_guide/indexing.html#returning-a-view-versus-a-copy\n"
          ],
          "name": "stderr"
        },
        {
          "output_type": "stream",
          "text": [
            "14940.292535877104\n",
            "7054.212672670794\n",
            "6321.113701676431\n",
            "10580.679623591655\n",
            "3676.288848260466\n",
            "2161.9468079914927\n",
            "1731.4000233726347\n",
            "2820.853877104576\n",
            "1266.753438890728\n",
            "658.9123950293688\n",
            "0.0\n"
          ],
          "name": "stdout"
        }
      ]
    },
    {
      "cell_type": "code",
      "metadata": {
        "id": "SMS8VBaqnAe5",
        "colab_type": "code",
        "colab": {
          "base_uri": "https://localhost:8080/",
          "height": 279
        },
        "outputId": "7c366fb2-b9a2-4de1-d8d1-d0b5e1c64f6f"
      },
      "source": [
        "color=['blue','green','cyan']\n",
        "for k in range(K):\n",
        "    data=X[X[\"Cluster\"]==k+1]\n",
        "    plt.scatter(data[\"income\"],data[\"gdpp\"],c=color[k])\n",
        "plt.scatter(Centroids[\"income\"],Centroids[\"gdpp\"],c='red')\n",
        "plt.xlabel('Income')\n",
        "plt.ylabel('gdpp')\n",
        "plt.show()"
      ],
      "execution_count": 9,
      "outputs": [
        {
          "output_type": "display_data",
          "data": {
            "image/png": "[encoded data removed]",
            "text/plain": [
              "<Figure size 432x288 with 1 Axes>"
            ]
          },
          "metadata": {
            "tags": [],
            "needs_background": "light"
          }
        }
      ]
    }
  ]
}